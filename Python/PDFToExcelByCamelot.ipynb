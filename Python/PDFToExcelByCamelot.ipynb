{
 "cells": [
  {
   "cell_type": "markdown",
   "metadata": {},
   "source": [
    "依赖需求:\n",
    "    camelot --> pdf表格识别 https://pypi.org/project/camelot-py/ \n",
    "    pandas --> 数据处理 https://pypi.org/project/pandas/\n",
    "    pdfplumber -> pdf文本识别 https://pypi.org/project/pdfplumber/\n",
    "    akshare --> 数据api https://pypi.org/project/akshare/"
   ]
  },
  {
   "cell_type": "code",
   "execution_count": 1,
   "metadata": {},
   "outputs": [],
   "source": [
    "import camelot\n",
    "\n",
    "# 指定页面范围\n",
    "page_range = '62-69'  # 示例：提取整个文档\n",
    "\n",
    "# 读取 PDF 文件\n",
    "tables = camelot.read_pdf('分众传媒：2020年年度报告.PDF', pages=page_range, flavor='lattice')\n",
    "\n",
    "# 遍历所有提取的表格并保存为 CSV 文件\n",
    "for i, table in enumerate(tables):\n",
    "    table.to_csv(f'table_{i+1}.csv')  # 保存每个表格为 CSV 文件 \n",
    "\n",
    "tables.export('分众传媒：2020年年度报告.csv', f='csv')"
   ]
  },
  {
   "cell_type": "markdown",
   "metadata": {},
   "source": [
    "仅执行读取，不添加表格分页是否连续"
   ]
  },
  {
   "cell_type": "code",
   "execution_count": 3,
   "metadata": {},
   "outputs": [
    {
     "data": {
      "text/plain": [
       "['Page 1 and Page 2 might have separate tables due to 3 lines of text between them.',\n",
       " 'Page 2 and Page 3 might have separate tables due to 5 lines of text between them.',\n",
       " 'Page 3 and Page 4 might have continuous tables with only 2 lines of text between.',\n",
       " 'Page 4 and Page 5 might have separate tables due to 5 lines of text between them.',\n",
       " 'Page 5 and Page 6 might have separate tables due to 7 lines of text between them.',\n",
       " 'Page 6 and Page 7 might have separate tables due to 5 lines of text between them.',\n",
       " 'Page 7 and Page 8 might have separate tables due to 5 lines of text between them.']"
      ]
     },
     "execution_count": 3,
     "metadata": {},
     "output_type": "execute_result"
    }
   ],
   "source": [
    "import pdfplumber\n",
    "\n",
    "def extract_text_around_tables(pdf_path, page_range):\n",
    "    continuity_info = []\n",
    "    with pdfplumber.open(pdf_path) as pdf:\n",
    "\n",
    "        start, end = map(int, page_range.split('-'))\n",
    "        pages = [pdf.pages[i] for i in range(start-1, end)]\n",
    "        \n",
    "        for i in range(len(pages) - 1):\n",
    "            current_page = pages[i]\n",
    "            next_page = pages[i + 1]\n",
    "\n",
    "\n",
    "            current_tables = current_page.find_tables()\n",
    "            next_tables = next_page.find_tables()\n",
    "\n",
    "\n",
    "            if current_tables:\n",
    "                last_table = current_tables[-1].bbox  \n",
    "                text_after_last_table = current_page.crop((0, last_table[3], current_page.width, current_page.height)).extract_text()\n",
    "            else:\n",
    "                text_after_last_table = \"\"\n",
    "\n",
    "            if next_tables:\n",
    "                first_table = next_tables[0].bbox\n",
    "                text_before_first_table = next_page.crop((0, 0, next_page.width, first_table[1])).extract_text()\n",
    "            else:\n",
    "                text_before_first_table = \"\"\n",
    "\n",
    "\n",
    "            text_after_lines = text_after_last_table.split('\\n') if text_after_last_table else []\n",
    "            text_before_lines = text_before_first_table.split('\\n') if text_before_first_table else []\n",
    "            total_lines = len(text_after_lines) + len(text_before_lines)\n",
    "\n",
    "            if total_lines > 2:\n",
    "                continuity_info.append(f\"Page {i+1} and Page {i+2} might have separate tables due to {total_lines} lines of text between them.\")\n",
    "            else:\n",
    "                continuity_info.append(f\"Page {i+1} and Page {i+2} might have continuous tables with only {total_lines} lines of text between.\")\n",
    "\n",
    "    return continuity_info\n",
    "\n",
    "\n",
    "continuity_check = extract_text_around_tables('分众传媒：2020年年度报告.PDF', '62-69')\n",
    "continuity_check\n"
   ]
  },
  {
   "cell_type": "markdown",
   "metadata": {},
   "source": [
    "判断分页表格是否连续，\n",
    "1,2分页判断失败(可采取阈值为三的判断)"
   ]
  },
  {
   "cell_type": "code",
   "execution_count": 6,
   "metadata": {},
   "outputs": [],
   "source": [
    "import camelot\n",
    "import pandas as pd\n",
    "import pdfplumber\n",
    "\n",
    "def extract_text_around_tables(pdf_path, page_range):\n",
    "    continuity_info = []\n",
    "    with pdfplumber.open(pdf_path) as pdf:\n",
    "        start, end = map(int, page_range.split('-'))\n",
    "        pages = [pdf.pages[i] for i in range(start - 1, end)]\n",
    "        for i in range(len(pages) - 1):\n",
    "            current_page = pages[i]\n",
    "            next_page = pages[i + 1]\n",
    "            current_tables = current_page.find_tables()\n",
    "            next_tables = next_page.find_tables()\n",
    "            if current_tables and next_tables:\n",
    "                last_table = current_tables[-1].bbox\n",
    "                first_table = next_tables[0].bbox\n",
    "                text_after_last_table = current_page.crop((0, last_table[3], current_page.width, current_page.height)).extract_text()\n",
    "                text_before_first_table = next_page.crop((0, 0, next_page.width, first_table[1])).extract_text()\n",
    "                text_after_lines = text_after_last_table.split('\\n') if text_after_last_table else []\n",
    "                text_before_lines = text_before_first_table.split('\\n') if text_before_first_table else []\n",
    "                total_lines = len(text_after_lines) + len(text_before_lines)\n",
    "\n",
    "                if total_lines <= 3:\n",
    "                    continuity_info.append((i + 1, i + 2))  \n",
    "    return continuity_info\n",
    "\n",
    "def read_and_merge_tables(pdf_path, page_range, output_path):\n",
    "    continuous_pages = extract_text_around_tables(pdf_path, page_range)\n",
    "    tables = camelot.read_pdf(pdf_path, pages=page_range, flavor='lattice')\n",
    "    dfs = [table.df for table in tables]\n",
    "    merged_dfs = []\n",
    "    i = 0\n",
    "    while i < len(dfs):\n",
    "        if any(x[0] == i+1 for x in continuous_pages):\n",
    "            merged_df = pd.concat([dfs[i], dfs[i + 1]], ignore_index=True)\n",
    "            merged_dfs.append(merged_df)\n",
    "            i += 2  \n",
    "        else:\n",
    "            merged_dfs.append(dfs[i])\n",
    "            i += 1\n",
    "    with pd.ExcelWriter(output_path, engine='openpyxl') as writer:\n",
    "        for index, df in enumerate(merged_dfs):\n",
    "            df.to_excel(writer, sheet_name=f'Table_{index+1}', index=False)\n",
    "\n",
    "\n",
    "pdf_path = '分众传媒：2020年年度报告.PDF'\n",
    "output_path = '合并资产负债表_改.xlsx'\n",
    "page_range = '62-69'\n",
    "\n",
    "\n",
    "read_and_merge_tables(pdf_path, page_range, output_path)\n"
   ]
  },
  {
   "cell_type": "code",
   "execution_count": 4,
   "metadata": {},
   "outputs": [
    {
     "name": "stdout",
     "output_type": "stream",
     "text": [
      "汇总数据已经成功写入Excel文件。\n"
     ]
    }
   ],
   "source": [
    "import akshare as ak\n",
    "import pandas as pd\n",
    "\n",
    "\n",
    "stock_financial_report_sina_df = ak.stock_financial_report_sina(stock=\"sh600600\", symbol=\"资产负债表\")\n",
    "\n",
    "# with pd.ExcelWriter('stock_sse_summary.xlsx') as writer:\n",
    "\n",
    "#     stock_financial_report_sina_df.to_excel(writer, sheet_name='SSE Summary', index=False)\n",
    "\n",
    "stock_financial_report_sina_df.to_json('stock_financial_report_sina.json', orient='records', lines=True)\n",
    "print(\"汇总数据已经成功写入Excel文件。\")\n"
   ]
  },
  {
   "cell_type": "code",
   "execution_count": null,
   "metadata": {},
   "outputs": [],
   "source": [
    "import subprocess\n",
    "\n",
    "pipe = subprocess.Popen([\"java\",\"My\"])"
   ]
  }
 ],
 "metadata": {
  "kernelspec": {
   "display_name": ".venv",
   "language": "python",
   "name": "python3"
  },
  "language_info": {
   "codemirror_mode": {
    "name": "ipython",
    "version": 3
   },
   "file_extension": ".py",
   "mimetype": "text/x-python",
   "name": "python",
   "nbconvert_exporter": "python",
   "pygments_lexer": "ipython3",
   "version": "3.12.3"
  }
 },
 "nbformat": 4,
 "nbformat_minor": 2
}
